{
 "cells": [
  {
   "cell_type": "code",
   "execution_count": null,
   "id": "f82f6ac1",
   "metadata": {},
   "outputs": [],
   "source": [
    "from gensim.models import Doc2Vec\n",
    "from gensim.models.doc2vec import TaggedDocument\n",
    "import jieba\n",
    "\n",
    "# 一堆句子 (也可以是一篇文章)\n",
    "documents = []\n",
    "with open(\"./cases/colab_test/reviews.txt\", \"r\", encoding=\"utf-8\") as file:\n",
    "    for line in file:\n",
    "        document = line.split(\"\\t\")[0]\n",
    "        documents.append(document.replace('\"', ''))\n",
    "\n",
    "# 使用 jieba 進行斷詞\n",
    "docs = [jieba.lcut(doc) for doc in documents]\n",
    "\n",
    "# 將文本標記為 TaggedDocument 格式\n",
    "docs = [TaggedDocument(doc, [index]) for index, doc in enumerate(docs)]\n",
    "\n",
    "# 建立 Doc2Vec 模型\n",
    "model = Doc2Vec(\n",
    "    docs, \n",
    "    vector_size=100, \n",
    "    window=5, \n",
    "    min_count=1,\n",
    "    epochs=20\n",
    ")"
   ]
  },
  {
   "cell_type": "code",
   "execution_count": null,
   "id": "ef2f12d2",
   "metadata": {},
   "outputs": [],
   "source": [
    "# 查找索引為 5 的文件向量\n",
    "vector = model.dv[5]\n",
    "\n",
    "# 輸出索引為 5 的文件向量\n",
    "print(vector)"
   ]
  },
  {
   "cell_type": "code",
   "execution_count": null,
   "id": "cbfedcdb",
   "metadata": {},
   "outputs": [],
   "source": [
    "# 顯示兩個段落的文字\n",
    "print(documents[5])\n",
    "print(docs[5].words)\n",
    "\n",
    "print(documents[6])\n",
    "print(docs[6].words)"
   ]
  },
  {
   "cell_type": "code",
   "execution_count": 4,
   "id": "37b8d405",
   "metadata": {},
   "outputs": [],
   "source": [
    "# 儲存模型\n",
    "model.save('doc2vec.model')"
   ]
  },
  {
   "cell_type": "code",
   "execution_count": 5,
   "id": "b123fadc",
   "metadata": {},
   "outputs": [],
   "source": [
    "# 讀取模型\n",
    "model = Doc2Vec.load('doc2vec.model')"
   ]
  },
  {
   "cell_type": "code",
   "execution_count": null,
   "id": "5fc3071f",
   "metadata": {},
   "outputs": [],
   "source": [
    "# 查找索引為 5 的文件向量\n",
    "print(documents[5])\n",
    "\n",
    "# 找前 10 個相似的文件\n",
    "similar_docs = model.dv.most_similar(5, topn=10)\n",
    "print(similar_docs)\n",
    "\n",
    "for doc_index, similarity in similar_docs:\n",
    "    print(\"=\" * 50)\n",
    "    print(documents[doc_index])\n",
    "    print(similarity)"
   ]
  },
  {
   "cell_type": "code",
   "execution_count": null,
   "id": "8ad85c32",
   "metadata": {},
   "outputs": [],
   "source": [
    "# 計算文檔向量 0 和文檔向量 843 之間的相似度\n",
    "similarity = model.dv.similarity(5, 843)\n",
    "print(similarity)"
   ]
  }
 ],
 "metadata": {
  "kernelspec": {
   "display_name": "test",
   "language": "python",
   "name": "python3"
  },
  "language_info": {
   "codemirror_mode": {
    "name": "ipython",
    "version": 3
   },
   "file_extension": ".py",
   "mimetype": "text/x-python",
   "name": "python",
   "nbconvert_exporter": "python",
   "pygments_lexer": "ipython3",
   "version": "3.10.14"
  }
 },
 "nbformat": 4,
 "nbformat_minor": 5
}
