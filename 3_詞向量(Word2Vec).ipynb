{
 "cells": [
  {
   "cell_type": "code",
   "execution_count": null,
   "id": "1bbe0e5c",
   "metadata": {},
   "outputs": [],
   "source": [
    "# 安裝 gensim\n",
    "!pip install gensim"
   ]
  },
  {
   "cell_type": "code",
   "execution_count": 2,
   "id": "cd6242a3",
   "metadata": {},
   "outputs": [],
   "source": [
    "# 匯入套件\n",
    "from gensim.models import Word2Vec\n",
    "import jieba"
   ]
  },
  {
   "cell_type": "code",
   "execution_count": 20,
   "id": "ad2b1fbf",
   "metadata": {},
   "outputs": [],
   "source": [
    "# 一堆句子 (也可以是一篇文章)\n",
    "sentences = []\n",
    "with open(\"./cases/colab_test/reviews.txt\", \"r\", encoding=\"utf-8\") as file:\n",
    "    for line in file:\n",
    "        sentence = line.split(\"\\t\")[0]\n",
    "        sentences.append(sentence)\n",
    "\n",
    "# 使用 jieba 進行斷詞\n",
    "sentences = [jieba.lcut(sentence) for sentence in sentences]\n",
    "\n",
    "# 設定參數\n",
    "'''\n",
    "sg = 1 -> skip-gram\n",
    "sg = 0 -> cbow\n",
    "'''\n",
    "sg = 0 \n",
    "\n",
    "# 向前看幾個字或向後看幾個字\n",
    "window_size = 2\n",
    "\n",
    "# 向量維度\n",
    "vector_size = 100\n",
    "\n",
    "# 訓練幾回\n",
    "epochs = 50\n",
    "\n",
    "# 最少多少個字才會被使用\n",
    "min_count = 1\n",
    "\n",
    "# seed\n",
    "seed = 42\n",
    "\n",
    "# 建立 Word2Vec 模型\n",
    "model = Word2Vec(\n",
    "    sentences, \n",
    "    vector_size=vector_size, \n",
    "    window=window_size, \n",
    "    sg=sg, \n",
    "    min_count=min_count,\n",
    "    seed=seed,\n",
    "    epochs=epochs\n",
    ")"
   ]
  },
  {
   "cell_type": "code",
   "execution_count": null,
   "id": "0285c5d2",
   "metadata": {},
   "outputs": [],
   "source": [
    "# 取得 \"房間\" 這個詞的詞向量\n",
    "vector = model.wv['房間']\n",
    "\n",
    "# 輸出 \"房間\" 的詞向量\n",
    "print(vector)"
   ]
  },
  {
   "cell_type": "code",
   "execution_count": 22,
   "id": "6b4ce971",
   "metadata": {},
   "outputs": [],
   "source": [
    "# 儲存模型\n",
    "model.save('word2vec.model')"
   ]
  },
  {
   "cell_type": "code",
   "execution_count": 23,
   "id": "8f92f7f3",
   "metadata": {},
   "outputs": [],
   "source": [
    "# 讀取模型\n",
    "loaded_model = Word2Vec.load(\"word2vec.model\")"
   ]
  },
  {
   "cell_type": "code",
   "execution_count": null,
   "id": "bf4c3a3d",
   "metadata": {},
   "outputs": [],
   "source": [
    "# 尋找相近的字詞\n",
    "loaded_model.wv.most_similar('房間', topn=10)"
   ]
  },
  {
   "cell_type": "code",
   "execution_count": null,
   "id": "22bd0497",
   "metadata": {},
   "outputs": [],
   "source": [
    "# 計算相近度\n",
    "loaded_model.wv.similarity('房間', '房子')"
   ]
  }
 ],
 "metadata": {
  "kernelspec": {
   "display_name": "test",
   "language": "python",
   "name": "python3"
  },
  "language_info": {
   "codemirror_mode": {
    "name": "ipython",
    "version": 3
   },
   "file_extension": ".py",
   "mimetype": "text/x-python",
   "name": "python",
   "nbconvert_exporter": "python",
   "pygments_lexer": "ipython3",
   "version": "3.10.14"
  }
 },
 "nbformat": 4,
 "nbformat_minor": 5
}
