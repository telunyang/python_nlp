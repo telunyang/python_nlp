{
 "cells": [
  {
   "cell_type": "code",
   "execution_count": null,
   "id": "1bbe0e5c",
   "metadata": {},
   "outputs": [],
   "source": [
    "# 安裝 gensim\n",
    "!pip install gensim"
   ]
  },
  {
   "cell_type": "code",
   "execution_count": 1,
   "id": "cd6242a3",
   "metadata": {},
   "outputs": [],
   "source": [
    "# 匯入套件\n",
    "from gensim.models import Word2Vec\n",
    "import jieba"
   ]
  },
  {
   "cell_type": "code",
   "execution_count": 2,
   "id": "ad2b1fbf",
   "metadata": {},
   "outputs": [
    {
     "name": "stderr",
     "output_type": "stream",
     "text": [
      "Building prefix dict from the default dictionary ...\n",
      "Loading model from cache C:\\Users\\darren\\AppData\\Local\\Temp\\jieba.cache\n",
      "Loading model cost 0.663 seconds.\n",
      "Prefix dict has been built successfully.\n"
     ]
    }
   ],
   "source": [
    "# 句子 (也可以是一篇文章)\n",
    "sentences = [\n",
    "    \"我喜歡閱讀書籍\",\n",
    "    \"我也喜歡使用電腦來學習新的知識\",\n",
    "    \"閱讀可以開闊我們的視野\",\n",
    "    \"電腦是現代學習的重要工具\"\n",
    "]\n",
    "\n",
    "# 使用 jieba 進行斷詞\n",
    "sentences = [jieba.lcut(sentence) for sentence in sentences]\n",
    "\n",
    "# 設定參數\n",
    "sg = 0 # sg=1 -> skip-gram, sg=0 -> cbow\n",
    "\n",
    "# 向前看幾個字或向後看幾個字\n",
    "window_size = 2\n",
    "\n",
    "# 向量維度\n",
    "vector_size = 100\n",
    "\n",
    "# 訓練幾回\n",
    "epochs = 20\n",
    "\n",
    "# 最少多少個字才會被使用\n",
    "min_count = 1\n",
    "\n",
    "# seed\n",
    "seed = 42\n",
    "\n",
    "# 建立 Word2Vec 模型\n",
    "model = Word2Vec(\n",
    "    sentences, \n",
    "    vector_size=vector_size, \n",
    "    window=window_size, \n",
    "    sg=sg, \n",
    "    min_count=1,\n",
    "    seed=seed,\n",
    "    epochs=epochs)"
   ]
  },
  {
   "cell_type": "code",
   "execution_count": 3,
   "id": "0285c5d2",
   "metadata": {},
   "outputs": [
    {
     "name": "stdout",
     "output_type": "stream",
     "text": [
      "[ 6.5954071e-03 -5.9868670e-03  6.1242823e-03 -9.8507879e-03\n",
      "  5.9283017e-03  5.7808924e-03  5.5459896e-03  3.3354512e-03\n",
      " -6.2992523e-04  4.0789861e-03 -4.4583189e-03  5.6846226e-03\n",
      "  1.1682488e-03 -7.4988086e-04  1.7718112e-04  1.4477749e-03\n",
      " -9.2442632e-03 -7.2804657e-03 -5.0738980e-03 -7.6958109e-03\n",
      " -1.2995761e-03  3.3611779e-03  3.0769682e-03 -5.1966432e-04\n",
      "  7.2063389e-03  1.2711901e-03 -8.4013008e-03  5.2771349e-03\n",
      "  1.4740955e-03  2.6925886e-03  1.3152183e-03  1.0411168e-03\n",
      " -8.2053021e-03  1.2484069e-03  5.9369495e-03 -3.9278842e-03\n",
      "  2.1179605e-03 -9.4857570e-03 -3.0904261e-03 -1.2018590e-03\n",
      "  9.6746739e-03 -5.6946776e-03 -4.4047888e-03 -1.8955042e-03\n",
      "  9.8145949e-03  7.0748185e-03 -9.2347665e-03 -5.2571776e-03\n",
      "  6.5050884e-03 -8.8492902e-03  7.1549197e-03 -4.4357688e-03\n",
      "  8.2967877e-03 -4.0846397e-03 -1.2842315e-03  3.2024672e-03\n",
      " -7.4801035e-03  1.1386370e-03  8.3789768e-05  5.7440619e-03\n",
      "  9.9593448e-03  3.3219403e-03 -1.8971625e-03 -1.7824204e-03\n",
      " -1.6002868e-03  6.2593487e-03 -3.5439047e-03 -6.6822860e-03\n",
      " -3.3223853e-03 -9.6037844e-03 -7.8291129e-03 -8.2410406e-03\n",
      "  5.3917239e-03  4.3854527e-03  4.0031797e-03 -7.9079426e-04\n",
      "  4.3601864e-03 -6.8155951e-03  7.9513425e-03  6.0985109e-05\n",
      "  8.7906262e-03 -6.9346242e-03 -1.1152197e-04  3.9650500e-03\n",
      " -1.0343366e-04 -1.0597224e-03 -6.7796037e-03 -2.4496934e-03\n",
      " -5.1942598e-03 -3.9705331e-03  3.6597841e-03  2.6553927e-03\n",
      "  2.1861645e-03 -2.7373096e-03  9.2349146e-03 -8.2890904e-03\n",
      " -3.1076814e-03 -7.6132887e-03 -3.2653578e-03  9.1796787e-03]\n"
     ]
    }
   ],
   "source": [
    "# 取得 \"閱讀\" 這個詞的詞向量\n",
    "vector = model.wv['閱讀']\n",
    "\n",
    "# 輸出 \"閱讀\" 的詞向量\n",
    "print(vector)"
   ]
  },
  {
   "cell_type": "code",
   "execution_count": 4,
   "id": "6b4ce971",
   "metadata": {},
   "outputs": [],
   "source": [
    "# 儲存模型\n",
    "model.save('word2vec.model')"
   ]
  },
  {
   "cell_type": "code",
   "execution_count": 5,
   "id": "8f92f7f3",
   "metadata": {},
   "outputs": [],
   "source": [
    "# 讀取模型\n",
    "loaded_model = Word2Vec.load(\"word2vec.model\")"
   ]
  },
  {
   "cell_type": "code",
   "execution_count": 6,
   "id": "bf4c3a3d",
   "metadata": {},
   "outputs": [
    {
     "data": {
      "text/plain": [
       "[('是', 0.2088485062122345),\n",
       " ('重要', 0.17286993563175201),\n",
       " ('可以', 0.15483269095420837),\n",
       " ('現代學習', 0.13875289261341095),\n",
       " ('的', 0.09962724894285202),\n",
       " ('學習', 0.0726875513792038),\n",
       " ('我們', 0.029159801080822945),\n",
       " ('電腦', 0.0044628651812672615),\n",
       " ('喜歡', 0.00015831770724616945),\n",
       " ('也', -0.0144733851775527)]"
      ]
     },
     "execution_count": 6,
     "metadata": {},
     "output_type": "execute_result"
    }
   ],
   "source": [
    "# 尋找相近的字詞\n",
    "loaded_model.wv.most_similar('閱讀', topn=10)"
   ]
  },
  {
   "cell_type": "code",
   "execution_count": 7,
   "id": "22bd0497",
   "metadata": {},
   "outputs": [
    {
     "data": {
      "text/plain": [
       "0.10312064"
      ]
     },
     "execution_count": 7,
     "metadata": {},
     "output_type": "execute_result"
    }
   ],
   "source": [
    "# 計算相近度\n",
    "loaded_model.wv.similarity('書籍', '知識')"
   ]
  }
 ],
 "metadata": {
  "kernelspec": {
   "display_name": "python3@nlp",
   "language": "python",
   "name": "k_nlp"
  },
  "language_info": {
   "codemirror_mode": {
    "name": "ipython",
    "version": 3
   },
   "file_extension": ".py",
   "mimetype": "text/x-python",
   "name": "python",
   "nbconvert_exporter": "python",
   "pygments_lexer": "ipython3",
   "version": "3.10.11"
  }
 },
 "nbformat": 4,
 "nbformat_minor": 5
}
