{
 "cells": [
  {
   "cell_type": "code",
   "execution_count": null,
   "id": "1bbe0e5c",
   "metadata": {},
   "outputs": [],
   "source": [
    "# 安裝 gensim\n",
    "!pip install gensim"
   ]
  },
  {
   "cell_type": "code",
   "execution_count": 2,
   "id": "cd6242a3",
   "metadata": {},
   "outputs": [],
   "source": [
    "# 匯入套件\n",
    "from gensim.models import Word2Vec\n",
    "import jieba"
   ]
  },
  {
   "cell_type": "code",
   "execution_count": 12,
   "id": "ad2b1fbf",
   "metadata": {},
   "outputs": [],
   "source": [
    "# 讀取文本\n",
    "documents = []\n",
    "with open(\"./cases/colab_test/reviews.txt\", \"r\", encoding=\"utf-8\") as file:\n",
    "    for line in file:\n",
    "        document = line.split(\"\\t\")[0]\n",
    "        documents.append(document.replace('\"', ''))\n",
    "\n",
    "# 使用 jieba 進行斷詞\n",
    "docs = [jieba.lcut(document) for document in documents]\n",
    "\n",
    "# 設定參數\n",
    "'''\n",
    "sg = 1 -> skip-gram\n",
    "sg = 0 -> cbow\n",
    "'''\n",
    "sg = 0 \n",
    "\n",
    "# 向前看幾個字或向後看幾個字\n",
    "window_size = 5\n",
    "\n",
    "# 向量維度\n",
    "vector_size = 100\n",
    "\n",
    "# 訓練幾回\n",
    "epochs = 5\n",
    "\n",
    "# 最少多少個字才會被使用\n",
    "min_count = 1\n",
    "\n",
    "# seed\n",
    "seed = 42\n",
    "\n",
    "# 使用幾個 CPU cores 進行訓練\n",
    "workers = 4\n",
    "\n",
    "# 建立 Word2Vec 模型\n",
    "model = Word2Vec(\n",
    "    docs, \n",
    "    vector_size=vector_size, \n",
    "    window=window_size, \n",
    "    sg=sg, \n",
    "    min_count=min_count,\n",
    "    workers=workers,\n",
    "    seed=seed,\n",
    "    epochs=epochs\n",
    ")"
   ]
  },
  {
   "cell_type": "code",
   "execution_count": null,
   "id": "0285c5d2",
   "metadata": {},
   "outputs": [],
   "source": [
    "# 取得 \"房間\" 這個詞的詞向量\n",
    "vector = model.wv['房間']\n",
    "\n",
    "# 輸出 \"房間\" 的詞向量\n",
    "print(vector)"
   ]
  },
  {
   "cell_type": "code",
   "execution_count": 14,
   "id": "6b4ce971",
   "metadata": {},
   "outputs": [],
   "source": [
    "# 儲存模型\n",
    "model.save('word2vec.model')"
   ]
  },
  {
   "cell_type": "code",
   "execution_count": 15,
   "id": "8f92f7f3",
   "metadata": {},
   "outputs": [],
   "source": [
    "# 讀取模型\n",
    "loaded_model = Word2Vec.load(\"word2vec.model\")"
   ]
  },
  {
   "cell_type": "code",
   "execution_count": null,
   "id": "bf4c3a3d",
   "metadata": {},
   "outputs": [],
   "source": [
    "# 尋找相近的字詞\n",
    "loaded_model.wv.most_similar('房間', topn=10)"
   ]
  },
  {
   "cell_type": "code",
   "execution_count": null,
   "id": "22bd0497",
   "metadata": {},
   "outputs": [],
   "source": [
    "# 計算相近度\n",
    "loaded_model.wv.similarity('房間', '房子')"
   ]
  },
  {
   "cell_type": "markdown",
   "id": "d920acdc",
   "metadata": {},
   "source": [
    "# 如何找到合適的 epoch 數量？"
   ]
  },
  {
   "cell_type": "code",
   "execution_count": null,
   "id": "a0bf434a",
   "metadata": {},
   "outputs": [],
   "source": [
    "from gensim.models import Word2Vec\n",
    "import jieba\n",
    "import matplotlib.pyplot as plt\n",
    "import matplotlib\n",
    "matplotlib.rc('font', family='Microsoft JhengHei')\n",
    "\n",
    "# 讀取文本\n",
    "documents = []\n",
    "with open(\"./cases/colab_test/reviews.txt\", \"r\", encoding=\"utf-8\") as file:\n",
    "    for line in file:\n",
    "        document = line.split(\"\\t\")[0]\n",
    "        documents.append(document.replace('\"', ''))\n",
    "\n",
    "# 使用 jieba 進行斷詞\n",
    "docs = [jieba.lcut(document) for document in documents]\n",
    "\n",
    "# 初始化模型，並啟用損失計算\n",
    "model = Word2Vec(\n",
    "    vector_size=100,\n",
    "    window=5,\n",
    "    sg=0,\n",
    "    min_count=1,\n",
    "    workers=4,\n",
    "    seed=42,\n",
    "    compute_loss=True\n",
    ")\n",
    "\n",
    "# 建立詞彙表\n",
    "model.build_vocab(docs)\n",
    "\n",
    "# 定義訓練的 epoch 數\n",
    "num_epochs = 50\n",
    "\n",
    "# 用於存儲每個 epoch 的損失值\n",
    "losses = []\n",
    "\n",
    "for epoch in range(num_epochs):\n",
    "    print(\"=\" * 50)\n",
    "    print(f'訓練第 {epoch+1} 個 epoch')\n",
    "    model.train(\n",
    "        docs,\n",
    "        total_examples=model.corpus_count,\n",
    "        epochs=1,\n",
    "        compute_loss=True\n",
    "    )\n",
    "\n",
    "    # 取得當前的損失值\n",
    "    loss = model.get_latest_training_loss()\n",
    "\n",
    "    # 得到當前的累積損失\n",
    "    losses.append(loss)\n",
    "    print('當前總損失值:', loss)\n",
    "    \n",
    "    # 重置損失值\n",
    "    model.running_training_loss = 0\n",
    "\n",
    "# 繪製損失函數圖表\n",
    "plt.plot(range(1, num_epochs+1), losses)\n",
    "plt.xlabel('Epoch')\n",
    "plt.ylabel('Loss')\n",
    "plt.title('Word2Vec 訓練損失函數圖表')\n",
    "plt.show()"
   ]
  }
 ],
 "metadata": {
  "kernelspec": {
   "display_name": "test",
   "language": "python",
   "name": "python3"
  },
  "language_info": {
   "codemirror_mode": {
    "name": "ipython",
    "version": 3
   },
   "file_extension": ".py",
   "mimetype": "text/x-python",
   "name": "python",
   "nbconvert_exporter": "python",
   "pygments_lexer": "ipython3",
   "version": "3.10.14"
  }
 },
 "nbformat": 4,
 "nbformat_minor": 5
}
