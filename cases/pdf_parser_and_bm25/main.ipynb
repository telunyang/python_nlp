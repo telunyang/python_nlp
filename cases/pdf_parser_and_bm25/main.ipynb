{
 "cells": [
  {
   "cell_type": "code",
   "execution_count": null,
   "metadata": {},
   "outputs": [],
   "source": [
    "'''\n",
    "參考連結:\n",
    "[1] Implement Okapi BM25 variants in Gensim #3304\n",
    "https://github.com/piskvorky/gensim/pull/3304\n",
    "[2] 年報審閱分工 #2\n",
    "https://github.com/GufoLAB/annual_report_verification/issues/2\n",
    "[3] 法規名稱： 銀行年報應行記載事項準則 (修正日期：\t民國 113 年 02 月 19 日)\n",
    "https://law.moj.gov.tw/LawClass/LawAll.aspx?PCODE=G0380104\n",
    "[4] 法規名稱： 公開發行公司年報應行記載事項準則 (修正日期：\t民國 112 年 11 月 10 日)\n",
    "https://law.moj.gov.tw/LawClass/LawAll.aspx?pcode=G0400022\n",
    "[5] gensim - models.tfidfmodel\n",
    "https://radimrehurek.com/gensim/models/tfidfmodel.html\n",
    "[6] SMART Information Retrieval System\n",
    "https://en.wikipedia.org/wiki/SMART_Information_Retrieval_System\n",
    "'''"
   ]
  },
  {
   "cell_type": "code",
   "execution_count": 1,
   "metadata": {},
   "outputs": [],
   "source": [
    "import re\n",
    "import sqlite3\n",
    "from gensim.corpora import Dictionary\n",
    "from gensim.models import TfidfModel, OkapiBM25Model\n",
    "from gensim.similarities import SparseMatrixSimilarity\n",
    "import jieba\n",
    "import heapq"
   ]
  },
  {
   "cell_type": "code",
   "execution_count": 30,
   "metadata": {},
   "outputs": [],
   "source": [
    "# 資料庫連線\n",
    "db_file = '2633.db' # 2303 2633\n",
    "conn = sqlite3.connect(db_file)\n",
    "conn.row_factory = sqlite3.Row\n",
    "cursor = conn.cursor()"
   ]
  },
  {
   "cell_type": "code",
   "execution_count": 31,
   "metadata": {},
   "outputs": [],
   "source": [
    "# 分詞設定\n",
    "jieba.load_userdict(\"userdict.txt\")"
   ]
  },
  {
   "cell_type": "code",
   "execution_count": 32,
   "metadata": {},
   "outputs": [],
   "source": [
    "# 匯出所有資料\n",
    "sql = f'''\n",
    "SELECT *\n",
    "FROM `pdf`\n",
    "ORDER BY `id` ASC\n",
    "'''\n",
    "stmt = cursor.execute(sql)\n",
    "list_data = []\n",
    "list_page_num = []\n",
    "for row in stmt.fetchall():\n",
    "    text_content = row['text_content']\n",
    "    table_format = row['table_format']\n",
    "    # if table_format == None: \n",
    "    #     list_data.append(text_content)\n",
    "    # else:\n",
    "    #     list_data.append(text_content +  table_format)\n",
    "    list_data.append(text_content)\n",
    "    list_page_num.append(row['page_num'])"
   ]
  },
  {
   "cell_type": "code",
   "execution_count": 33,
   "metadata": {},
   "outputs": [],
   "source": [
    "# 關閉 sqlite\n",
    "cursor.close()\n",
    "conn.close()"
   ]
  },
  {
   "cell_type": "code",
   "execution_count": 34,
   "metadata": {},
   "outputs": [],
   "source": [
    "# 斷詞\n",
    "list_seq = []\n",
    "for seq in list_data:\n",
    "    seq = re.sub(r\"\\s| |\\n\", \"\", seq) # 簡單清理\n",
    "    list_seq.append(list(jieba.cut(seq, HMM=False)))"
   ]
  },
  {
   "cell_type": "code",
   "execution_count": 35,
   "metadata": {},
   "outputs": [],
   "source": [
    "# 用 BM25 模型計算相似度(相關性)\n",
    "def bm25_similarity(list_seq, query):\n",
    "    dictionary = Dictionary(list_seq)\n",
    "    bm25_model = OkapiBM25Model(dictionary=dictionary)\n",
    "    bm25_corpus = bm25_model[list(map(dictionary.doc2bow, list_seq))]\n",
    "    bm25_index = SparseMatrixSimilarity(bm25_corpus, num_docs=len(list_seq), num_terms=len(dictionary), normalize_queries=False, normalize_documents=False)\n",
    "    query = list(jieba.cut(query))\n",
    "    tfidf_model = TfidfModel(dictionary=dictionary, smartirs='bnn') # default: nfc\n",
    "    tfidf_query = tfidf_model[dictionary.doc2bow(query)]\n",
    "    similarities = bm25_index[tfidf_query]\n",
    "    return similarities"
   ]
  },
  {
   "cell_type": "code",
   "execution_count": 36,
   "metadata": {},
   "outputs": [],
   "source": [
    "# 顯示前 top_k 高相似度的文章\n",
    "def get_page_score(similarities, top_k):\n",
    "    similarities = list(similarities)\n",
    "    top_values = heapq.nlargest(top_k, similarities)\n",
    "    top_indices = [similarities.index(value) for value in top_values]\n",
    "    return [(list_page_num[doc_index], top_values[index]) for index, doc_index in enumerate(top_indices)]"
   ]
  },
  {
   "cell_type": "code",
   "execution_count": 37,
   "metadata": {},
   "outputs": [],
   "source": [
    "# 基本設定\n",
    "top_k = 5"
   ]
  },
  {
   "cell_type": "code",
   "execution_count": null,
   "metadata": {},
   "outputs": [],
   "source": [
    "'''\n",
    "第一類\n",
    "18.4\t(四)營運概況 4.環保支出資訊：最近年度及截至年報刊印日止，因污染環境所遭受之損失（包括賠償及環境保護稽查結果違反環保法規事項，應列明處分日期、處分字號、違反法規條文、違反法規內容、處分內容），並揭露目前及未來可能發生之估計金額與因應措施，如無法合理估計者，應說明其無法合理估計之事實。\n",
    "18.5.1\t5.勞資關係 (1)列示公司各項員工福利措施、進修、訓練、退休制度與其實施情形，以及勞資間之協議與各項員工權益維護措施情形。\n",
    "18.5.2\t(2)列明最近年度及截至年報刊印日止，因勞資糾紛所遭受之損失（包括勞工檢查結果違反勞動基準法事項，應列明處分日期、處分字號、違反法規條文、違反法規內容、處分內容），並揭露目前及未來可能發生之估計金額與因應措施，如無法合理估計者，應說明其無法合理估計之事實。\n",
    "\n",
    "第二類\n",
    "11.1\t3.公司資本及股份 (1)股本來源是否按附表五揭露。\n",
    "11.2\t(2)股東結構是否按附表六揭露。\n",
    "11.3\t(3)普通股及特別股之股權分散情形是否按附表七揭露。\n",
    "11.4\t(4)主要股東名單是否按附表八揭露，應列明股權比例達百分之五以上之股東，如不足十名，應揭露至股權比例占前十名之股東名稱、持股數額及比例。\n",
    "11.5\t(5)最近二年度每股資料是否按附表九揭露。\n",
    "11.9.1\t(9)公司買回本公司股份情形 A.已執行完畢者：是否按附表十(1)揭露。\n",
    "11.9.2\tB.尚在執行中者：是否按附表十(2)揭露。\n",
    "\n",
    "第四類\n",
    "18.1.1\t(四)營運概況 1.業務內容 (1)業務範圍。\n",
    "18.1.2\t(2)產業概況。\n",
    "18.1.3\t(3)技術及研發概況。\n",
    "18.1.4\t(4)長、短期業務發展計畫。\n",
    "'''"
   ]
  },
  {
   "cell_type": "code",
   "execution_count": 38,
   "metadata": {},
   "outputs": [
    {
     "name": "stdout",
     "output_type": "stream",
     "text": [
      "Page Num: 177, Score: 15.5245\n",
      "Page Num: 178, Score: 9.0146\n",
      "Page Num: 117, Score: 7.6217\n",
      "Page Num: 101, Score: 6.0963\n",
      "Page Num: 160, Score: 4.8552\n"
     ]
    }
   ],
   "source": [
    "# 第 1 類: 18.4\n",
    "query = '''\n",
    "(四)營運概況 4.環保支出資訊：最近年度及截至年報刊印日止，因污染環境所遭受之損失（包括賠償及環境保護稽查結果違反環保法規事項，應列明處分日期、處分字號、違反法規條文、違反法規內容、處分內容），並揭露目前及未來可能發生之估計金額與因應措施，如無法合理估計者，應說明其無法合理估計之事實。\n",
    "'''\n",
    "query = '''\n",
    "營運概況 環保支出資訊 污染環境\n",
    "'''\n",
    "sim = bm25_similarity(list_seq, query)\n",
    "for doc_id, score in get_page_score(sim, top_k):\n",
    "    print(f'Page Num: {doc_id}, Score: {score:.4f}')"
   ]
  },
  {
   "cell_type": "code",
   "execution_count": 39,
   "metadata": {},
   "outputs": [
    {
     "name": "stdout",
     "output_type": "stream",
     "text": [
      "Page Num: 62, Score: 52.6264\n",
      "Page Num: 60, Score: 50.6946\n",
      "Page Num: 104, Score: 39.3249\n",
      "Page Num: 107, Score: 36.1723\n",
      "Page Num: 106, Score: 35.1926\n"
     ]
    }
   ],
   "source": [
    "# 第 1 類: 18.5.1\n",
    "query = '''\n",
    "5.勞資關係 (1)列示公司各項員工福利措施、進修、訓練、退休制度與其實施情形，以及勞資間之協議與各項員工權益維護措施情形。\n",
    "'''\n",
    "sim = bm25_similarity(list_seq, query)\n",
    "for doc_id, score in get_page_score(sim, top_k):\n",
    "    print(f'Page Num: {doc_id}, Score: {score:.4f}')"
   ]
  },
  {
   "cell_type": "code",
   "execution_count": 40,
   "metadata": {},
   "outputs": [
    {
     "name": "stdout",
     "output_type": "stream",
     "text": [
      "Page Num: 63, Score: 153.2087\n",
      "Page Num: 169, Score: 77.7168\n",
      "Page Num: 177, Score: 65.9090\n",
      "Page Num: 123, Score: 65.7830\n",
      "Page Num: 265, Score: 61.5669\n"
     ]
    }
   ],
   "source": [
    "# 第 1 類: 18.5.2\n",
    "query = '''\n",
    "(2)列明最近年度及截至年報刊印日止，因勞資糾紛所遭受之損失（包括勞工檢查結果違反勞動基準法事項，應列明處分日期、處分字號、違反法規條文、違反法規內容、處分內容），並揭露目前及未來可能發生之估計金額與因應措施，如無法合理估計者，應說明其無法合理估計之事實。\n",
    "'''\n",
    "sim = bm25_similarity(list_seq, query)\n",
    "for doc_id, score in get_page_score(sim, top_k):\n",
    "    print(f'Page Num: {doc_id}, Score: {score:.4f}')"
   ]
  },
  {
   "cell_type": "code",
   "execution_count": 41,
   "metadata": {},
   "outputs": [
    {
     "name": "stdout",
     "output_type": "stream",
     "text": [
      "Page Num: 133, Score: 24.1517\n",
      "Page Num: 132, Score: 16.5357\n",
      "Page Num: 268, Score: 11.8168\n",
      "Page Num: 229, Score: 9.1628\n",
      "Page Num: 230, Score: 7.7453\n"
     ]
    }
   ],
   "source": [
    "# 第 2 類: 11.1\n",
    "query = '''\n",
    "3.公司資本及股份 (1)股本來源是否按附表五揭露。\n",
    "'''\n",
    "query = '''\n",
    "公司資本及股份 股本來源 發行價格 核定股本 實收股本\n",
    "'''\n",
    "sim = bm25_similarity(list_seq, query)\n",
    "for doc_id, score in get_page_score(sim, top_k):\n",
    "    print(f'Page Num: {doc_id}, Score: {score:.4f}')"
   ]
  },
  {
   "cell_type": "code",
   "execution_count": 42,
   "metadata": {},
   "outputs": [
    {
     "name": "stdout",
     "output_type": "stream",
     "text": [
      "Page Num: 133, Score: 19.5871\n",
      "Page Num: 238, Score: 10.6320\n",
      "Page Num: 39, Score: 10.0415\n",
      "Page Num: 38, Score: 9.7473\n",
      "Page Num: 93, Score: 9.5165\n"
     ]
    }
   ],
   "source": [
    "# 第 2 類: 11.2\n",
    "query = '''\n",
    "(2)股東結構是否按附表六揭露。\n",
    "'''\n",
    "query = '''\n",
    "股東結構 政府機構 金融機構 其他法人\n",
    "'''\n",
    "sim = bm25_similarity(list_seq, query)\n",
    "for doc_id, score in get_page_score(sim, top_k):\n",
    "    print(f'Page Num: {doc_id}, Score: {score:.4f}')"
   ]
  },
  {
   "cell_type": "code",
   "execution_count": 43,
   "metadata": {},
   "outputs": [
    {
     "name": "stdout",
     "output_type": "stream",
     "text": [
      "Page Num: 134, Score: 33.1135\n",
      "Page Num: 248, Score: 27.9088\n",
      "Page Num: 129, Score: 19.8325\n",
      "Page Num: 130, Score: 19.0410\n",
      "Page Num: 133, Score: 18.3731\n"
     ]
    }
   ],
   "source": [
    "# 第 2 類: 11.3\n",
    "query = '''\n",
    "(3)普通股及特別股之股權分散情形是否按附表七揭露。\n",
    "'''\n",
    "query = '''\n",
    "普通股 特別股 股權分散情形 持股分級 股東人數 持有股數 持股比例\n",
    "'''\n",
    "sim = bm25_similarity(list_seq, query)\n",
    "for doc_id, score in get_page_score(sim, top_k):\n",
    "    print(f'Page Num: {doc_id}, Score: {score:.4f}')"
   ]
  },
  {
   "cell_type": "code",
   "execution_count": 44,
   "metadata": {},
   "outputs": [
    {
     "name": "stdout",
     "output_type": "stream",
     "text": [
      "Page Num: 134, Score: 26.4068\n",
      "Page Num: 248, Score: 22.8031\n",
      "Page Num: 129, Score: 22.7466\n",
      "Page Num: 130, Score: 22.5653\n",
      "Page Num: 128, Score: 14.6258\n"
     ]
    }
   ],
   "source": [
    "# 第 2 類: 11.4\n",
    "query = '''\n",
    "(4)主要股東名單是否按附表八揭露，應列明股權比例達百分之五以上之股東，如不足十名，應揭露至股權比例占前十名之股東名稱、持股數額及比例。\n",
    "'''\n",
    "query = '''\n",
    "主要股東名單 主要股東名稱 持有股數 持股比例\n",
    "'''\n",
    "sim = bm25_similarity(list_seq, query)\n",
    "for doc_id, score in get_page_score(sim, top_k):\n",
    "    print(f'Page Num: {doc_id}, Score: {score:.4f}')"
   ]
  },
  {
   "cell_type": "code",
   "execution_count": 45,
   "metadata": {},
   "outputs": [
    {
     "name": "stdout",
     "output_type": "stream",
     "text": [
      "Page Num: 135, Score: 12.8242\n",
      "Page Num: 268, Score: 8.8491\n",
      "Page Num: 235, Score: 7.8716\n",
      "Page Num: 134, Score: 7.0798\n",
      "Page Num: 229, Score: 6.2786\n"
     ]
    }
   ],
   "source": [
    "# 第 2 類: 11.5\n",
    "query = '''\n",
    "(5)最近二年度每股資料是否按附表九揭露。\n",
    "'''\n",
    "query = '''\n",
    "最近二年度每股資料\n",
    "'''\n",
    "sim = bm25_similarity(list_seq, query)\n",
    "for doc_id, score in get_page_score(sim, top_k):\n",
    "    print(f'Page Num: {doc_id}, Score: {score:.4f}')"
   ]
  },
  {
   "cell_type": "code",
   "execution_count": 46,
   "metadata": {},
   "outputs": [
    {
     "name": "stdout",
     "output_type": "stream",
     "text": [
      "Page Num: 136, Score: 5.2576\n",
      "Page Num: 182, Score: 3.3433\n",
      "Page Num: 149, Score: 3.2121\n",
      "Page Num: 10, Score: 3.1465\n",
      "Page Num: 211, Score: 3.0266\n"
     ]
    }
   ],
   "source": [
    "# 第 2 類: 11.9.1\n",
    "query = '''\n",
    "(9)公司買回本公司股份情形 A.已執行完畢者：是否按附表十(1)揭露。\n",
    "'''\n",
    "query = '''\n",
    "公司買回本公司股份情形 已執行完畢者 買回期次 買回目的\n",
    "'''\n",
    "sim = bm25_similarity(list_seq, query)\n",
    "for doc_id, score in get_page_score(sim, top_k):\n",
    "    print(f'Page Num: {doc_id}, Score: {score:.4f}')"
   ]
  },
  {
   "cell_type": "code",
   "execution_count": 47,
   "metadata": {},
   "outputs": [
    {
     "name": "stdout",
     "output_type": "stream",
     "text": [
      "Page Num: 138, Score: 9.5838\n",
      "Page Num: 139, Score: 9.1948\n",
      "Page Num: 137, Score: 8.9273\n",
      "Page Num: 133, Score: 8.5844\n",
      "Page Num: 202, Score: 7.6316\n"
     ]
    }
   ],
   "source": [
    "# 第 2 類: 11.9.2\n",
    "query = '''\n",
    "B.尚在執行中者：是否按附表十(2)揭露。\n",
    "'''\n",
    "query = '''\n",
    "尚在執行中者 買回期次 買回目的 買回股份之種類 買回股份之總金額上限\n",
    "'''\n",
    "sim = bm25_similarity(list_seq, query)\n",
    "for doc_id, score in get_page_score(sim, top_k):\n",
    "    print(f'Page Num: {doc_id}, Score: {score:.4f}')"
   ]
  },
  {
   "cell_type": "code",
   "execution_count": 48,
   "metadata": {},
   "outputs": [
    {
     "name": "stdout",
     "output_type": "stream",
     "text": [
      "Page Num: 142, Score: 13.3891\n",
      "Page Num: 4, Score: 9.5812\n",
      "Page Num: 141, Score: 4.7363\n",
      "Page Num: 150, Score: 4.3252\n",
      "Page Num: 152, Score: 3.5155\n"
     ]
    }
   ],
   "source": [
    "# 第 4 類: 18.1.1\n",
    "query = '''\n",
    "(四)營運概況 1.業務內容 (1)業務範圍。\n",
    "'''\n",
    "query = '''\n",
    "營運概況 業務內容 業務範圍\n",
    "'''\n",
    "sim = bm25_similarity(list_seq, query)\n",
    "for doc_id, score in get_page_score(sim, top_k):\n",
    "    print(f'Page Num: {doc_id}, Score: {score:.4f}')"
   ]
  },
  {
   "cell_type": "code",
   "execution_count": 49,
   "metadata": {},
   "outputs": [
    {
     "name": "stdout",
     "output_type": "stream",
     "text": [
      "Page Num: 152, Score: 14.2275\n",
      "Page Num: 40, Score: 10.1357\n",
      "Page Num: 41, Score: 10.1302\n",
      "Page Num: 83, Score: 10.0836\n",
      "Page Num: 198, Score: 10.0579\n"
     ]
    }
   ],
   "source": [
    "# 第 4 類: 18.1.2\n",
    "query = '''\n",
    "(2)產業概況。\n",
    "'''\n",
    "sim = bm25_similarity(list_seq, query)\n",
    "for doc_id, score in get_page_score(sim, top_k):\n",
    "    print(f'Page Num: {doc_id}, Score: {score:.4f}')"
   ]
  },
  {
   "cell_type": "code",
   "execution_count": 50,
   "metadata": {},
   "outputs": [
    {
     "name": "stdout",
     "output_type": "stream",
     "text": [
      "Page Num: 5, Score: 6.4657\n",
      "Page Num: 163, Score: 4.7365\n",
      "Page Num: 1, Score: 0.0000\n",
      "Page Num: 1, Score: 0.0000\n",
      "Page Num: 1, Score: 0.0000\n"
     ]
    }
   ],
   "source": [
    "# 第 4 類: 18.1.3\n",
    "query = '''\n",
    "(3)技術及研發概況。\n",
    "'''\n",
    "query = '''\n",
    "技術及研發概況\n",
    "'''\n",
    "sim = bm25_similarity(list_seq, query)\n",
    "for doc_id, score in get_page_score(sim, top_k):\n",
    "    print(f'Page Num: {doc_id}, Score: {score:.4f}')"
   ]
  },
  {
   "cell_type": "code",
   "execution_count": 51,
   "metadata": {},
   "outputs": [
    {
     "name": "stdout",
     "output_type": "stream",
     "text": [
      "Page Num: 158, Score: 16.5780\n",
      "Page Num: 167, Score: 16.2447\n",
      "Page Num: 155, Score: 14.4646\n",
      "Page Num: 165, Score: 14.0266\n",
      "Page Num: 222, Score: 13.6905\n"
     ]
    }
   ],
   "source": [
    "# 第 4 類: 18.1.4\n",
    "query = '''\n",
    "(4)長、短期業務發展計畫。\n",
    "'''\n",
    "sim = bm25_similarity(list_seq, query)\n",
    "for doc_id, score in get_page_score(sim, top_k):\n",
    "    print(f'Page Num: {doc_id}, Score: {score:.4f}')"
   ]
  }
 ],
 "metadata": {
  "kernelspec": {
   "display_name": "lab",
   "language": "python",
   "name": "python3"
  },
  "language_info": {
   "codemirror_mode": {
    "name": "ipython",
    "version": 3
   },
   "file_extension": ".py",
   "mimetype": "text/x-python",
   "name": "python",
   "nbconvert_exporter": "python",
   "pygments_lexer": "ipython3",
   "version": "3.10.14"
  }
 },
 "nbformat": 4,
 "nbformat_minor": 2
}
