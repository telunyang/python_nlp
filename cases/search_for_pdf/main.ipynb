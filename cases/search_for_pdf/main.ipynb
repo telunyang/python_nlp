{
 "cells": [
  {
   "cell_type": "code",
   "execution_count": null,
   "metadata": {},
   "outputs": [],
   "source": [
    "'''\n",
    "參考連結:\n",
    "[1] Implement Okapi BM25 variants in Gensim #3304\n",
    "https://github.com/piskvorky/gensim/pull/3304\n",
    "[2] 法規名稱： 銀行年報應行記載事項準則 (修正日期：\t民國 113 年 02 月 19 日)\n",
    "https://law.moj.gov.tw/LawClass/LawAll.aspx?PCODE=G0380104\n",
    "[3] 法規名稱： 公開發行公司年報應行記載事項準則 (修正日期：\t民國 112 年 11 月 10 日)\n",
    "https://law.moj.gov.tw/LawClass/LawAll.aspx?pcode=G0400022\n",
    "[4] gensim - models.tfidfmodel\n",
    "https://radimrehurek.com/gensim/models/tfidfmodel.html\n",
    "'''"
   ]
  },
  {
   "cell_type": "code",
   "execution_count": 1,
   "metadata": {},
   "outputs": [],
   "source": [
    "import re\n",
    "import sqlite3\n",
    "from gensim.corpora import Dictionary\n",
    "from gensim.models import TfidfModel, OkapiBM25Model\n",
    "from gensim.similarities import SparseMatrixSimilarity\n",
    "import jieba\n",
    "import heapq"
   ]
  },
  {
   "cell_type": "code",
   "execution_count": 2,
   "metadata": {},
   "outputs": [],
   "source": [
    "# 資料庫連線\n",
    "db_file = '2633.db'\n",
    "conn = sqlite3.connect(db_file)\n",
    "conn.row_factory = sqlite3.Row\n",
    "cursor = conn.cursor()"
   ]
  },
  {
   "cell_type": "code",
   "execution_count": null,
   "metadata": {},
   "outputs": [],
   "source": [
    "# 分詞設定\n",
    "jieba.load_userdict(\"userdict.txt\")"
   ]
  },
  {
   "cell_type": "code",
   "execution_count": 4,
   "metadata": {},
   "outputs": [],
   "source": [
    "# 匯出所有資料\n",
    "sql = f'''\n",
    "SELECT *\n",
    "FROM `pdf`\n",
    "ORDER BY `id` ASC\n",
    "'''\n",
    "stmt = cursor.execute(sql)\n",
    "list_data = []\n",
    "list_page_num = []\n",
    "for row in stmt.fetchall():\n",
    "    text_content = row['text_content']\n",
    "    table_format = row['table_format']\n",
    "    # if table_format == None: \n",
    "    #     list_data.append(text_content)\n",
    "    # else:\n",
    "    #     list_data.append(text_content +  table_format)\n",
    "    list_data.append(text_content)\n",
    "    list_page_num.append(row['page_num'])"
   ]
  },
  {
   "cell_type": "code",
   "execution_count": 5,
   "metadata": {},
   "outputs": [],
   "source": [
    "# 關閉 sqlite\n",
    "cursor.close()\n",
    "conn.close()"
   ]
  },
  {
   "cell_type": "code",
   "execution_count": 6,
   "metadata": {},
   "outputs": [],
   "source": [
    "# 斷詞\n",
    "list_seq = []\n",
    "for seq in list_data:\n",
    "    seq = re.sub(r\"\\s| |\\n\", \"\", seq) # 簡單清理\n",
    "    list_seq.append(list(jieba.cut(seq, HMM=False)))"
   ]
  },
  {
   "cell_type": "code",
   "execution_count": 7,
   "metadata": {},
   "outputs": [],
   "source": [
    "# 用 BM25 模型計算相似度(相關性)\n",
    "\n",
    "'''\n",
    "定義函式 bm25_similarity：\n",
    "- list_seq 是一個文件的列表，每個文件都是一個詞的列表；\n",
    "- query 是查詢字符串。\n",
    "'''\n",
    "def bm25_similarity(list_seq, query):\n",
    "    '''\n",
    "    建立詞典：\n",
    "    - 使用 list_seq 中的所有詞彙建立一個 Dictionary 物件，為每個詞彙分配一個唯一的ID。\n",
    "    '''\n",
    "    dictionary = Dictionary(list_seq)\n",
    "\n",
    "    '''\n",
    "    初始化 BM25 模型：\n",
    "    - 使用先前建立的詞典，來初始化一個 OkapiBM25Model 物件，這是用於資訊檢索 (Information Retrieval) 的統計模型。\n",
    "    '''\n",
    "    bm25_model = OkapiBM25Model(dictionary=dictionary)\n",
    "\n",
    "    '''\n",
    "    建立 BM25 語料庫：\n",
    "    - dictionary.doc2bow：將每個文件（詞的列表）轉換為詞袋（Bag-of-Words）表示，即每個詞的ID及其在文件中的出現次數。\n",
    "    - map 函式：對 list_seq 中的每個文件應用 doc2bow 轉換。\n",
    "    - bm25_model[...]：對轉換後的語料庫應用 BM25 權重，得到加權的語料庫 bm25_corpus。\n",
    "    '''\n",
    "    bm25_corpus = bm25_model[list(map(dictionary.doc2bow, list_seq))]\n",
    "\n",
    "    '''\n",
    "    SparseMatrixSimilarity：創建一個稀疏矩陣相似度對象，用於快速計算查詢與文件之間的相似度。\n",
    "    - bm25_corpus：BM25 加權的語料庫。\n",
    "    - num_docs：文件數量。\n",
    "    - num_terms：詞典中詞的數量。\n",
    "    - normalize_queries=False：不對查詢進行 normalization。\n",
    "    - normalize_documents=False：不對文件進行 normalization。\n",
    "    '''\n",
    "    bm25_index = SparseMatrixSimilarity(\n",
    "        bm25_corpus, \n",
    "        num_docs=len(list_seq), \n",
    "        num_terms=len(dictionary), \n",
    "        normalize_queries=False, \n",
    "        normalize_documents=False\n",
    "    )\n",
    "\n",
    "    '''\n",
    "    對查詢進行分詞：\n",
    "    - 使用 jieba.lcut 對查詢字符串進行分詞。\n",
    "    '''\n",
    "    query = jieba.lcut(query)\n",
    "\n",
    "    '''\n",
    "    建立 TF-IDF 模型：\n",
    "    - 參數 smartirs='bnn'：指定權重計算的方式，其中 'bnn' 表示二值化的詞頻和未正則化的逆向文件頻率 (IDF)。\n",
    "    '''\n",
    "    tfidf_model = TfidfModel(\n",
    "        dictionary=dictionary, \n",
    "        smartirs='bnn' # default: nfc\n",
    "    )\n",
    "\n",
    "    '''\n",
    "    轉換查詢向量：\n",
    "    - dictionary.doc2bow(query)：將查詢詞列表轉換為詞袋表示。\n",
    "    - tfidf_model[...]：對詞袋表示的查詢應用 TF-IDF 權重，得到加權的查詢向量 tfidf_query。\n",
    "    '''\n",
    "    tfidf_query = tfidf_model[dictionary.doc2bow(query)]\n",
    "\n",
    "    '''\n",
    "    計算相似度：\n",
    "    - 使用之前建立的 bm25_index，計算查詢向量與語料庫中每個文件的相似度。\n",
    "    '''\n",
    "    similarities = bm25_index[tfidf_query]\n",
    "    \n",
    "    return similarities"
   ]
  },
  {
   "cell_type": "code",
   "execution_count": 21,
   "metadata": {},
   "outputs": [],
   "source": [
    "# 顯示前 top_k 高相似度的文章\n",
    "def get_page_score(similarities, top_k):\n",
    "    '''\n",
    "    (文章索引, 查詢後的相似分數)\n",
    "    [(0, 0.0), (1, 0.0), (2, 0.0), (3, 3.4350295), (4, 2.4153714), (5, 0.0), (6, 0.0), ...]\n",
    "    '''\n",
    "    similarities = list(enumerate(similarities))\n",
    "\n",
    "    '''\n",
    "    前 top_k 高相似度的文章\n",
    "    [(176, 15.524609), (177, 9.0146), (116, 7.6217546), (100, 6.096363), (159, 4.855205)]\n",
    "    '''\n",
    "    top_items  = heapq.nlargest(\n",
    "        top_k, \n",
    "        similarities,\n",
    "        key=lambda x: x[1]\n",
    "    )\n",
    "\n",
    "    return [(doc_index + 1, score) for doc_index, score in top_items]"
   ]
  },
  {
   "cell_type": "code",
   "execution_count": 22,
   "metadata": {},
   "outputs": [],
   "source": [
    "# 基本設定\n",
    "top_k = 5"
   ]
  },
  {
   "cell_type": "code",
   "execution_count": null,
   "metadata": {},
   "outputs": [],
   "source": [
    "query = '''\n",
    "5.勞資關係 (1)列示公司各項員工福利措施、進修、訓練、退休制度與其實施情形，以及勞資間之協議與各項員工權益維護措施情形。\n",
    "'''\n",
    "sim = bm25_similarity(list_seq, query)\n",
    "for doc_id, score in get_page_score(sim, top_k):\n",
    "    print(f'Page Num: {doc_id}, Score: {score:.4f}')"
   ]
  },
  {
   "cell_type": "code",
   "execution_count": null,
   "metadata": {},
   "outputs": [],
   "source": [
    "query = '''\n",
    "(2)列明最近年度及截至年報刊印日止，因勞資糾紛所遭受之損失（包括勞工檢查結果違反勞動基準法事項，應列明處分日期、處分字號、違反法規條文、違反法規內容、處分內容），並揭露目前及未來可能發生之估計金額與因應措施，如無法合理估計者，應說明其無法合理估計之事實。\n",
    "'''\n",
    "sim = bm25_similarity(list_seq, query)\n",
    "for doc_id, score in get_page_score(sim, top_k):\n",
    "    print(f'Page Num: {doc_id}, Score: {score:.4f}')"
   ]
  },
  {
   "cell_type": "code",
   "execution_count": null,
   "metadata": {},
   "outputs": [],
   "source": [
    "query = '''\n",
    "營運概況 環保支出資訊 污染環境\n",
    "'''\n",
    "sim = bm25_similarity(list_seq, query)\n",
    "for doc_id, score in get_page_score(sim, top_k):\n",
    "    print(f'Page Num: {doc_id}, Score: {score:.4f}')"
   ]
  },
  {
   "cell_type": "code",
   "execution_count": null,
   "metadata": {},
   "outputs": [],
   "source": [
    "query = '''\n",
    "公司資本及股份 股本來源 發行價格 核定股本 實收股本\n",
    "'''\n",
    "sim = bm25_similarity(list_seq, query)\n",
    "for doc_id, score in get_page_score(sim, top_k):\n",
    "    print(f'Page Num: {doc_id}, Score: {score:.4f}')"
   ]
  },
  {
   "cell_type": "code",
   "execution_count": null,
   "metadata": {},
   "outputs": [],
   "source": [
    "query = '''\n",
    "股東結構 政府機構 金融機構 其他法人\n",
    "'''\n",
    "sim = bm25_similarity(list_seq, query)\n",
    "for doc_id, score in get_page_score(sim, top_k):\n",
    "    print(f'Page Num: {doc_id}, Score: {score:.4f}')"
   ]
  },
  {
   "cell_type": "code",
   "execution_count": null,
   "metadata": {},
   "outputs": [],
   "source": [
    "query = '''\n",
    "普通股 特別股 股權分散情形 持股分級 股東人數 持有股數 持股比例\n",
    "'''\n",
    "sim = bm25_similarity(list_seq, query)\n",
    "for doc_id, score in get_page_score(sim, top_k):\n",
    "    print(f'Page Num: {doc_id}, Score: {score:.4f}')"
   ]
  },
  {
   "cell_type": "code",
   "execution_count": null,
   "metadata": {},
   "outputs": [],
   "source": [
    "query = '''\n",
    "主要股東名單 主要股東名稱 持有股數 持股比例\n",
    "'''\n",
    "sim = bm25_similarity(list_seq, query)\n",
    "for doc_id, score in get_page_score(sim, top_k):\n",
    "    print(f'Page Num: {doc_id}, Score: {score:.4f}')"
   ]
  },
  {
   "cell_type": "code",
   "execution_count": null,
   "metadata": {},
   "outputs": [],
   "source": [
    "query = '''\n",
    "最近二年度每股資料\n",
    "'''\n",
    "sim = bm25_similarity(list_seq, query)\n",
    "for doc_id, score in get_page_score(sim, top_k):\n",
    "    print(f'Page Num: {doc_id}, Score: {score:.4f}')"
   ]
  },
  {
   "cell_type": "code",
   "execution_count": null,
   "metadata": {},
   "outputs": [],
   "source": [
    "query = '''\n",
    "公司買回本公司股份情形 已執行完畢者 買回期次 買回目的\n",
    "'''\n",
    "sim = bm25_similarity(list_seq, query)\n",
    "for doc_id, score in get_page_score(sim, top_k):\n",
    "    print(f'Page Num: {doc_id}, Score: {score:.4f}')"
   ]
  },
  {
   "cell_type": "code",
   "execution_count": null,
   "metadata": {},
   "outputs": [],
   "source": [
    "query = '''\n",
    "尚在執行中者 買回期次 買回目的 買回股份之種類 買回股份之總金額上限\n",
    "'''\n",
    "sim = bm25_similarity(list_seq, query)\n",
    "for doc_id, score in get_page_score(sim, top_k):\n",
    "    print(f'Page Num: {doc_id}, Score: {score:.4f}')"
   ]
  },
  {
   "cell_type": "code",
   "execution_count": null,
   "metadata": {},
   "outputs": [],
   "source": [
    "query = '''\n",
    "營運概況 業務內容 業務範圍\n",
    "'''\n",
    "sim = bm25_similarity(list_seq, query)\n",
    "for doc_id, score in get_page_score(sim, top_k):\n",
    "    print(f'Page Num: {doc_id}, Score: {score:.4f}')"
   ]
  },
  {
   "cell_type": "code",
   "execution_count": null,
   "metadata": {},
   "outputs": [],
   "source": [
    "query = '''\n",
    "產業概況\n",
    "'''\n",
    "sim = bm25_similarity(list_seq, query)\n",
    "for doc_id, score in get_page_score(sim, top_k):\n",
    "    print(f'Page Num: {doc_id}, Score: {score:.4f}')"
   ]
  },
  {
   "cell_type": "code",
   "execution_count": null,
   "metadata": {},
   "outputs": [],
   "source": [
    "query = '''\n",
    "技術及研發概況\n",
    "'''\n",
    "sim = bm25_similarity(list_seq, query)\n",
    "for doc_id, score in get_page_score(sim, top_k):\n",
    "    print(f'Page Num: {doc_id}, Score: {score:.4f}')"
   ]
  },
  {
   "cell_type": "code",
   "execution_count": null,
   "metadata": {},
   "outputs": [],
   "source": [
    "query = '''\n",
    "長、短期業務發展計畫。\n",
    "'''\n",
    "sim = bm25_similarity(list_seq, query)\n",
    "for doc_id, score in get_page_score(sim, top_k):\n",
    "    print(f'Page Num: {doc_id}, Score: {score:.4f}')"
   ]
  }
 ],
 "metadata": {
  "kernelspec": {
   "display_name": "lab",
   "language": "python",
   "name": "python3"
  },
  "language_info": {
   "codemirror_mode": {
    "name": "ipython",
    "version": 3
   },
   "file_extension": ".py",
   "mimetype": "text/x-python",
   "name": "python",
   "nbconvert_exporter": "python",
   "pygments_lexer": "ipython3",
   "version": "3.10.14"
  }
 },
 "nbformat": 4,
 "nbformat_minor": 2
}
