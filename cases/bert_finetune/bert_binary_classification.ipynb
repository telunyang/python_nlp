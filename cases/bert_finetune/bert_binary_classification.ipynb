{
 "cells": [
  {
   "cell_type": "markdown",
   "metadata": {},
   "source": [
    "# 掛載 Google Drive"
   ]
  },
  {
   "cell_type": "code",
   "execution_count": null,
   "metadata": {
    "id": "wYtVvEwzngbn"
   },
   "outputs": [],
   "source": [
    "!pip install google.colab"
   ]
  },
  {
   "cell_type": "code",
   "execution_count": null,
   "metadata": {
    "id": "qn9TXerTole6"
   },
   "outputs": [],
   "source": [
    "from google.colab import drive\n",
    "drive.mount('/content/drive', force_remount=True)"
   ]
  },
  {
   "cell_type": "markdown",
   "metadata": {},
   "source": [
    "# 觀看系統設定"
   ]
  },
  {
   "cell_type": "code",
   "execution_count": null,
   "metadata": {
    "id": "PGSOsvEIpswK"
   },
   "outputs": [],
   "source": [
    "!lsb_release -a"
   ]
  },
  {
   "cell_type": "code",
   "execution_count": null,
   "metadata": {
    "id": "4SI-_WjfwUA1"
   },
   "outputs": [],
   "source": [
    "!nvidia-smi"
   ]
  },
  {
   "cell_type": "code",
   "execution_count": null,
   "metadata": {
    "id": "K7V-wNylwglC"
   },
   "outputs": [],
   "source": [
    "!nvcc -V"
   ]
  },
  {
   "cell_type": "code",
   "execution_count": null,
   "metadata": {
    "id": "R04dIS9QqD0o"
   },
   "outputs": [],
   "source": [
    "# 切換目錄 (Colab 預設目錄為 /content，使用 %cd 切換目錄)\n",
    "%cd /content/drive/My Drive/colab_test/"
   ]
  },
  {
   "cell_type": "markdown",
   "metadata": {},
   "source": [
    "# 微調模型"
   ]
  },
  {
   "cell_type": "code",
   "execution_count": null,
   "metadata": {},
   "outputs": [],
   "source": [
    "# 安裝套件\n",
    "!pip install torch torchvision torchaudio transformers datasets evaluate accelerate scikit-learn"
   ]
  },
  {
   "cell_type": "code",
   "execution_count": null,
   "metadata": {
    "id": "ROCfoeHI9ak0"
   },
   "outputs": [],
   "source": [
    "import torch\n",
    "print(torch.cuda.is_available())\n",
    "print(torch.cuda.current_device())\n",
    "print(torch.cuda.device(0))"
   ]
  },
  {
   "cell_type": "code",
   "execution_count": null,
   "metadata": {
    "id": "kEVAYBkXxzkH"
   },
   "outputs": [],
   "source": [
    "'''\n",
    "AutoTokenizer：這有助於將我們的文字資料標記為 BERT 可以理解的格式。 「Auto」前綴意味著它可以為各種模型推斷適當的分詞器。\n",
    "AutoModelForSequenceClassification：一個通用的類別，是用於「序列分類」任務的模型架構。「Auto」前綴使其在各種預訓練模型中具有通用性。\n",
    "TrainingArguments：定義訓練配置的設定，例如 learning rateb、batch size 和 epoch。\n",
    "Trainer：用於訓練和評估，使 finetune 變得簡單。\n",
    "pipeline：使用模型的模型。\n",
    "DataCollat​​eWithPadding：確保我們分詞化後的資料，以一致的長度串接在一起，並在必要時增加 padding。這對於訓練的穩定性和效率至關重要。\n",
    "'''\n",
    "from datasets import load_dataset, Dataset, DatasetDict\n",
    "from transformers import (\n",
    "    AutoTokenizer,\n",
    "    AutoModelForSequenceClassification,\n",
    "    TrainingArguments,\n",
    "    Trainer,\n",
    "    DataCollatorWithPadding,\n",
    ")\n",
    "\n",
    "import random\n",
    "from sklearn.metrics import f1_score\n",
    "\n",
    "\n",
    "'''\n",
    "函式\n",
    "'''\n",
    "# 讀取 .txt 文件\n",
    "def load_dataset_from_file(file_path, seed=42):\n",
    "    # 讀檔\n",
    "    with open(file_path, \"r\", encoding='utf-8') as file:\n",
    "        # 將每一行資料以 list 型態回傳\n",
    "        lines = file.readlines()\n",
    "\n",
    "        # 洗牌 (記得設定 random seed，確保每次洗牌結果一樣)\n",
    "        random.seed(seed)\n",
    "        random.shuffle(lines)\n",
    "\n",
    "        # 整合訓練資料\n",
    "        sentences = []\n",
    "        labels = []\n",
    "\n",
    "        # 逐行讀取資料\n",
    "        for line in lines:\n",
    "            # 每一行資料的 tab (\\t) 作為分隔符號\n",
    "            parts = line.strip().split('\\t')\n",
    "\n",
    "            # 確保每一行資料都有兩個部分\n",
    "            if len(parts) == 2:\n",
    "                sentences.append(parts[0])\n",
    "                labels.append(int(parts[1]))\n",
    "            else:\n",
    "                print(f'格式錯誤的行號: {line}')\n",
    "        return sentences, labels\n",
    "    \n",
    "# 轉換成 huggingface trainer 可以使用的 datasets\n",
    "def convert_to_dataset(sentences, labels, tokenizer, max_seq_length):\n",
    "    # 建立 Dataset\n",
    "    dataset = Dataset.from_dict({\n",
    "        'sentences': sentences,\n",
    "        'labels': labels\n",
    "    })\n",
    "\n",
    "    # 回傳切分資料 (訓練 和 驗證)\n",
    "    dataset = dataset.train_test_split(test_size=0.2)\n",
    "    '''\n",
    "    print(dataset) 的內容如下:\n",
    "\n",
    "    DatasetDict({\n",
    "        train: Dataset({\n",
    "            features: ['sentences', 'labels'],\n",
    "            num_rows: 6212\n",
    "        })\n",
    "        test: Dataset({\n",
    "            features: ['sentences', 'labels'],\n",
    "            num_rows: 1554\n",
    "        })\n",
    "    })\n",
    "    '''\n",
    "\n",
    "    # 預處理資料\n",
    "    def preprocess_data(dataset):\n",
    "        # 將句子轉換為 token (tokenization)\n",
    "        return tokenizer(\n",
    "            dataset['sentences'], \n",
    "            truncation=True, \n",
    "            padding=True, \n",
    "            return_tensors='pt', \n",
    "            max_length=max_seq_length\n",
    "        )\n",
    "\n",
    "    # 轉換資料\n",
    "    train_data = dataset['train'].map(preprocess_data, batched=True)\n",
    "    valid_data = dataset['test'].map(preprocess_data, batched=True)\n",
    "\n",
    "    return DatasetDict({\n",
    "        'train': train_data,\n",
    "        'test': valid_data\n",
    "    })\n",
    "\n",
    "# 計算模型評估指標\n",
    "def compute_metrics(predicted_results):\n",
    "    labels = predicted_results.label_ids\n",
    "    preds = predicted_results.predictions.argmax(-1)\n",
    "    '''\n",
    "    為什麼是 argmax(-1)？\n",
    "\n",
    "    import numpy as np\n",
    "    predictions = np.array([\n",
    "        [0.1, 0.9],\n",
    "        [0.8, 0.2],\n",
    "        [0.4, 0.6],\n",
    "    ])\n",
    "    preds = predictions.argmax(axis=-1)\n",
    "    print(preds) \n",
    "\n",
    "    np.argmax() 會找出最大的值，並回傳索引值\n",
    "    - 如果是 axis=0，則會是 [1, 0]，因為由上而下，對每一個欄位取最大值\n",
    "    - 如果是 axis=1，則會是 [1, 0, 1]，因為由左而右，對每一個列取最大值\n",
    "    - 如果是 axis=-1，則會以最後一個維度為基礎，取最大值\n",
    "    '''\n",
    "\n",
    "    f1 = f1_score(labels, preds, average='binary') # binary, micro, macro, weighted\n",
    "    return {\n",
    "        'f1': f1,\n",
    "    }"
   ]
  },
  {
   "cell_type": "code",
   "execution_count": null,
   "metadata": {},
   "outputs": [],
   "source": [
    "from sklearn.metrics import f1_score\n",
    "\n",
    "# 驗證 F1 score 算法\n",
    "y_true = [0,0,1,1,1,0,0]\n",
    "y_pred = [0,1,0,1,1,1,0]\n",
    "# y_true = [0,2,1,2,1,0,1]\n",
    "# y_pred = [0,1,0,2,1,1,2]\n",
    "print(f1_score(y_true, y_pred, average='binary')) # binary, micro, macro\n",
    "\n",
    "# 參考: https://blog.csdn.net/qq_40671063/article/details/130447922"
   ]
  },
  {
   "cell_type": "code",
   "execution_count": null,
   "metadata": {
    "id": "3epMxp60-Y4r"
   },
   "outputs": [],
   "source": [
    "# 主程式 - 微調模型\n",
    "if __name__ == \"__main__\":\n",
    "    '''\n",
    "    設定 hyperparameters\n",
    "    '''\n",
    "    model_name = 'google-bert/bert-base-chinese' # 預訓練模型名稱\n",
    "    max_seq_length = 512 # 可訓練的序列最大長度\n",
    "    num_labels = 2 # 二元分類\n",
    "    output_dir = 'output' # 輸出模型資料夾\n",
    "\n",
    "    # 讀取訓練資料\n",
    "    sentences, labels = load_dataset_from_file('./reviews.txt')\n",
    "\n",
    "    # 載入 tokenizer\n",
    "    tokenizer = AutoTokenizer.from_pretrained(model_name)\n",
    "\n",
    "    # 將資料轉換為 huggingface 可以使用的格式\n",
    "    dataset = convert_to_dataset(\n",
    "        sentences, \n",
    "        labels, \n",
    "        tokenizer, \n",
    "        max_seq_length\n",
    "    )\n",
    "\n",
    "    # 讀取模型\n",
    "    model = AutoModelForSequenceClassification.from_pretrained(\n",
    "        model_name, \n",
    "        num_labels=num_labels\n",
    "    )\n",
    "\n",
    "    # 設定訓練參數\n",
    "    training_args = TrainingArguments(\n",
    "        output_dir='output', # 輸出資料夾\n",
    "        overwrite_output_dir=True,\n",
    "        num_train_epochs=3, # 訓練回合數\n",
    "        per_device_train_batch_size=32, # 批次大小\n",
    "        per_device_eval_batch_size=32, # 批次大小\n",
    "        gradient_accumulation_steps=2,\n",
    "        learning_rate=0.00005, # 學習率 5e-5\n",
    "        warmup_steps=100,\n",
    "        weight_decay=0.01,\n",
    "        eval_strategy=\"steps\", # epoch, steps, no\n",
    "        eval_steps=100,\n",
    "        save_strategy=\"steps\", # epoch, steps, no\n",
    "        save_steps=100,\n",
    "        save_total_limit=2,\n",
    "        load_best_model_at_end=True,\n",
    "        seed=42, # 隨機種子\n",
    "        # lr_scheduler_type=\"linear\", # https://blog.csdn.net/muyao987/article/details/139319466\n",
    "        # report_to='wandb', # https://wandb.ai/\n",
    "    )\n",
    "\n",
    "    # 設定 Trainer\n",
    "    trainer = Trainer(\n",
    "        model=model,\n",
    "        args=training_args,\n",
    "        train_dataset=dataset['train'],\n",
    "        eval_dataset=dataset['test'],\n",
    "        data_collator=None, # DataCollatorWithPadding(tokenizer),\n",
    "        compute_metrics=compute_metrics,\n",
    "    )\n",
    "\n",
    "    # 開始訓練\n",
    "    trainer.train()\n",
    "\n",
    "    # 儲存模型\n",
    "    trainer.save_model(output_dir) # , safe_serialization=True\n",
    "\n",
    "    # 儲存 tokenizer\n",
    "    tokenizer.save_pretrained(output_dir)"
   ]
  },
  {
   "cell_type": "markdown",
   "metadata": {},
   "source": [
    "# 拿微調好的模型，進行預測"
   ]
  },
  {
   "cell_type": "code",
   "execution_count": null,
   "metadata": {},
   "outputs": [],
   "source": [
    "from transformers import (\n",
    "    AutoTokenizer,\n",
    "    AutoModelForSequenceClassification,\n",
    "    pipeline,\n",
    ")\n",
    "from pprint import pprint\n",
    "\n",
    "model_dir = './output'\n",
    "model = AutoModelForSequenceClassification.from_pretrained(model_dir)\n",
    "tokenizer = AutoTokenizer.from_pretrained(model_dir)\n",
    "pipe = pipeline(task='text-classification', model=model, tokenizer=tokenizer, device=0)\n",
    "\n",
    "list_text = [\n",
    "    '這個房間真的不錯，服務人員也很親切，下次還會再來！',\n",
    "    '這個房間真的很爛，服務人員也很差，下次不會再來！',\n",
    "    '一般般',\n",
    "]\n",
    "result = pipe(list_text)\n",
    "pprint(result)"
   ]
  }
 ],
 "metadata": {
  "accelerator": "GPU",
  "colab": {
   "authorship_tag": "ABX9TyMKWLyaNDZnqlM6q3MHE3gZ",
   "gpuType": "T4",
   "provenance": []
  },
  "kernelspec": {
   "display_name": "Python 3",
   "name": "python3"
  },
  "language_info": {
   "codemirror_mode": {
    "name": "ipython",
    "version": 3
   },
   "file_extension": ".py",
   "mimetype": "text/x-python",
   "name": "python",
   "nbconvert_exporter": "python",
   "pygments_lexer": "ipython3",
   "version": "3.10.14"
  }
 },
 "nbformat": 4,
 "nbformat_minor": 0
}
