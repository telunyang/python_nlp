{
 "cells": [
  {
   "cell_type": "code",
   "execution_count": 1,
   "id": "ad88469d",
   "metadata": {},
   "outputs": [],
   "source": [
    "from sklearn.preprocessing import OneHotEncoder\n",
    "import numpy as np\n",
    "import jieba"
   ]
  },
  {
   "cell_type": "code",
   "execution_count": 2,
   "id": "582b4965",
   "metadata": {},
   "outputs": [],
   "source": [
    "# 完整的句子\n",
    "sentence = \"我喜歡閱讀書籍，也喜歡使用電腦來學習新的知識\""
   ]
  },
  {
   "cell_type": "code",
   "execution_count": 3,
   "id": "8d5742ea",
   "metadata": {},
   "outputs": [
    {
     "name": "stderr",
     "output_type": "stream",
     "text": [
      "Building prefix dict from the default dictionary ...\n",
      "Loading model from cache C:\\Users\\darren\\AppData\\Local\\Temp\\jieba.cache\n",
      "Loading model cost 0.360 seconds.\n",
      "Prefix dict has been built succesfully.\n"
     ]
    },
    {
     "data": {
      "text/plain": [
       "['我', '喜歡', '閱讀', '書籍', '，', '也', '喜歡', '使用', '電腦', '來', '學習', '新', '的', '知識']"
      ]
     },
     "execution_count": 3,
     "metadata": {},
     "output_type": "execute_result"
    }
   ],
   "source": [
    "# 使用 jieba 進行斷詞\n",
    "words = list(jieba.cut(sentence)); words"
   ]
  },
  {
   "cell_type": "code",
   "execution_count": 4,
   "id": "b5ec56d8",
   "metadata": {},
   "outputs": [
    {
     "data": {
      "text/plain": [
       "array([['我'],\n",
       "       ['喜歡'],\n",
       "       ['閱讀'],\n",
       "       ['書籍'],\n",
       "       ['，'],\n",
       "       ['也'],\n",
       "       ['喜歡'],\n",
       "       ['使用'],\n",
       "       ['電腦'],\n",
       "       ['來'],\n",
       "       ['學習'],\n",
       "       ['新'],\n",
       "       ['的'],\n",
       "       ['知識']], dtype='<U2')"
      ]
     },
     "execution_count": 4,
     "metadata": {},
     "output_type": "execute_result"
    }
   ],
   "source": [
    "# 轉換為 OneHotEncoder 能接受的二維陣列形式\n",
    "words_array = np.array(words).reshape(-1, 1); words_array"
   ]
  },
  {
   "cell_type": "code",
   "execution_count": 5,
   "id": "f0f427ec",
   "metadata": {},
   "outputs": [],
   "source": [
    "# 建立 OneHotEncoder 物件\n",
    "onehot_encoder = OneHotEncoder(sparse_output=False)"
   ]
  },
  {
   "cell_type": "code",
   "execution_count": 6,
   "id": "bbf168cd",
   "metadata": {},
   "outputs": [],
   "source": [
    "# 進行 one-hot encoding\n",
    "onehot_encoded = onehot_encoder.fit_transform(words_array)"
   ]
  },
  {
   "cell_type": "code",
   "execution_count": 7,
   "id": "68ce5630",
   "metadata": {},
   "outputs": [
    {
     "name": "stdout",
     "output_type": "stream",
     "text": [
      "[array(['也', '使用', '來', '喜歡', '學習', '我', '新', '書籍', '的', '知識', '閱讀', '電腦',\n",
      "       '，'], dtype='<U2')]\n"
     ]
    }
   ],
   "source": [
    "# 顯示 OneHotEncoder 的分類 (類似機器學習當中的特徵名稱)\n",
    "'''\n",
    "[array(['也', '使用', '來', '喜歡', '學習', '我', '新', '書籍', '的', '知識', '閱讀', '電腦','，'], dtype='<U2')]\n",
    "'''\n",
    "print(onehot_encoder.categories_)"
   ]
  },
  {
   "cell_type": "code",
   "execution_count": 8,
   "id": "4220d2bf",
   "metadata": {},
   "outputs": [
    {
     "name": "stdout",
     "output_type": "stream",
     "text": [
      "[[0. 0. 0. 0. 0. 1. 0. 0. 0. 0. 0. 0. 0.]\n",
      " [0. 0. 0. 1. 0. 0. 0. 0. 0. 0. 0. 0. 0.]\n",
      " [0. 0. 0. 0. 0. 0. 0. 0. 0. 0. 1. 0. 0.]\n",
      " [0. 0. 0. 0. 0. 0. 0. 1. 0. 0. 0. 0. 0.]\n",
      " [0. 0. 0. 0. 0. 0. 0. 0. 0. 0. 0. 0. 1.]\n",
      " [1. 0. 0. 0. 0. 0. 0. 0. 0. 0. 0. 0. 0.]\n",
      " [0. 0. 0. 1. 0. 0. 0. 0. 0. 0. 0. 0. 0.]\n",
      " [0. 1. 0. 0. 0. 0. 0. 0. 0. 0. 0. 0. 0.]\n",
      " [0. 0. 0. 0. 0. 0. 0. 0. 0. 0. 0. 1. 0.]\n",
      " [0. 0. 1. 0. 0. 0. 0. 0. 0. 0. 0. 0. 0.]\n",
      " [0. 0. 0. 0. 1. 0. 0. 0. 0. 0. 0. 0. 0.]\n",
      " [0. 0. 0. 0. 0. 0. 1. 0. 0. 0. 0. 0. 0.]\n",
      " [0. 0. 0. 0. 0. 0. 0. 0. 1. 0. 0. 0. 0.]\n",
      " [0. 0. 0. 0. 0. 0. 0. 0. 0. 1. 0. 0. 0.]]\n"
     ]
    }
   ],
   "source": [
    "# 比照原始句子，顯示 one-hot encoding 的結果\n",
    "'''\n",
    "原始斷詞結果\n",
    "['我', '喜歡', '閱讀', '書籍', '，', '也', '喜歡', '使用', '電腦', '來', '學習', '新', '的', '知識']\n",
    "'''\n",
    "print(onehot_encoded)"
   ]
  },
  {
   "cell_type": "code",
   "execution_count": 9,
   "id": "047d9416",
   "metadata": {},
   "outputs": [
    {
     "name": "stdout",
     "output_type": "stream",
     "text": [
      "[0. 0. 0. 0. 0. 1. 0. 0. 0. 0. 0. 0. 0.]\n",
      "[0. 0. 0. 0. 0. 0. 0. 0. 0. 0. 1. 0. 0.]\n"
     ]
    }
   ],
   "source": [
    "# 找出「我」的 One-Hot Encoding\n",
    "print(onehot_encoded[0,:])\n",
    "\n",
    "# 找出「喜歡」的 One-Hot Encoding\n",
    "print(onehot_encoded[2,:])"
   ]
  }
 ],
 "metadata": {
  "kernelspec": {
   "display_name": "test",
   "language": "python",
   "name": "python3"
  },
  "language_info": {
   "codemirror_mode": {
    "name": "ipython",
    "version": 3
   },
   "file_extension": ".py",
   "mimetype": "text/x-python",
   "name": "python",
   "nbconvert_exporter": "python",
   "pygments_lexer": "ipython3",
   "version": "3.10.14"
  }
 },
 "nbformat": 4,
 "nbformat_minor": 5
}
